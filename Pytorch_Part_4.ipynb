{
  "nbformat": 4,
  "nbformat_minor": 0,
  "metadata": {
    "colab": {
      "name": "Pytorch_Part_4.ipynb",
      "provenance": []
    },
    "kernelspec": {
      "name": "python3",
      "display_name": "Python 3"
    },
    "language_info": {
      "name": "python"
    }
  },
  "cells": [
    {
      "cell_type": "markdown",
      "source": [
        "# ***Linear Rgression with Pytorch***"
      ],
      "metadata": {
        "id": "-DITjYzm3llQ"
      }
    },
    {
      "cell_type": "code",
      "execution_count": null,
      "metadata": {
        "id": "CBkT7mZR3fqs"
      },
      "outputs": [],
      "source": [
        "import torch\n",
        "import torch.nn as nn\n",
        "from sklearn import datasets\n",
        "import matplotlib.pyplot as plt"
      ]
    },
    {
      "cell_type": "code",
      "source": [
        "#Prepare datasets\n",
        "x_numpy, y_numpy = datasets.make_regression(n_samples = 100, n_features = 1, noise = 20, random_state = 1 )\n",
        "\n",
        "#Convert numpy to tensor\n",
        "x = torch.tensor(x_numpy, dtype = torch.float32)\n",
        "y = torch.tensor(y_numpy, dtype = torch.float32)\n",
        "print(y.shape)\n",
        "print(y)\n",
        "y = y.view(y.shape[0], 1) #Generate Column vector\n",
        "print(y.shape)"
      ],
      "metadata": {
        "colab": {
          "base_uri": "https://localhost:8080/"
        },
        "id": "Eryv6gJG34Zs",
        "outputId": "7006d196-13e1-4322-8d88-422a8617d98e"
      },
      "execution_count": null,
      "outputs": [
        {
          "output_type": "stream",
          "name": "stdout",
          "text": [
            "torch.Size([100])\n",
            "tensor([-5.5539e+01, -1.0662e+01,  2.2757e+01,  1.0110e+02,  1.4434e+02,\n",
            "         3.3289e+01,  3.3015e+01, -2.5887e+01, -9.9639e+01,  2.3803e+01,\n",
            "        -4.5589e+01, -8.3388e+00, -9.5315e+01,  3.6407e+01, -8.7293e+01,\n",
            "         6.7669e+01, -1.3687e+01, -5.5441e+01, -6.5340e+01, -5.4450e+01,\n",
            "        -2.8835e+01,  1.7884e+02,  6.5084e+01,  2.6668e+01, -1.8546e+01,\n",
            "        -4.1499e+01,  8.5583e-01,  4.4562e+01,  1.1598e+02, -6.4620e+01,\n",
            "        -2.5931e+01, -6.0882e+01,  1.8720e+01,  7.5070e+01,  1.1720e+02,\n",
            "        -2.2698e+01, -5.6363e+01,  1.8084e+02, -1.9257e+02,  6.8503e+01,\n",
            "         1.6552e+02,  1.0500e+02, -7.0434e+01, -5.8769e+01, -4.1576e+01,\n",
            "         7.3247e+01,  4.0966e+01,  8.0462e+01, -2.8794e+01,  3.4234e+01,\n",
            "        -4.1715e+01,  1.4355e+01,  7.9336e+01,  2.7129e+01, -3.9487e+01,\n",
            "         6.6805e+01,  9.5531e+01,  3.5610e+00,  1.0857e-01,  5.6495e+01,\n",
            "         5.1575e+01, -2.0974e+00, -2.6656e+01,  3.9742e+01,  3.6101e+01,\n",
            "        -7.5602e+01,  1.9713e+01, -7.1601e+01, -1.9904e+01, -7.6708e+01,\n",
            "        -1.1834e+02, -2.9825e+01,  1.5108e+02,  5.2923e+01, -5.9552e+01,\n",
            "         3.0721e+01, -2.9355e+01, -4.4786e+01,  1.0006e+02,  1.5058e+02,\n",
            "         1.2200e+02, -1.8186e+02,  3.4739e+00, -2.2980e+01,  4.5184e+01,\n",
            "         9.8606e+01, -9.2779e+00, -5.2478e+01,  3.8593e+01, -1.9997e+02,\n",
            "        -9.5201e+00, -3.4724e+00, -3.5312e+01,  7.5406e+01,  1.7570e+01,\n",
            "        -2.3960e+01,  1.3209e+02,  2.0608e+01,  5.1111e+01, -2.6306e+01])\n",
            "torch.Size([100, 1])\n"
          ]
        }
      ]
    },
    {
      "cell_type": "code",
      "source": [
        ""
      ],
      "metadata": {
        "id": "VKHOE2FsEly8"
      },
      "execution_count": null,
      "outputs": []
    },
    {
      "cell_type": "markdown",
      "source": [
        "**Model**"
      ],
      "metadata": {
        "id": "c805jOjcEm08"
      }
    },
    {
      "cell_type": "code",
      "source": [
        "n_sample, num_feature = x.shape\n",
        "input_feature = num_feature\n",
        "out_feature = 1\n",
        "model = nn.Linear(input_feature, out_feature)"
      ],
      "metadata": {
        "id": "fn6tDjMR5IE0"
      },
      "execution_count": null,
      "outputs": []
    },
    {
      "cell_type": "markdown",
      "source": [
        "**Loss and Optimizer**"
      ],
      "metadata": {
        "id": "WIRZvwgP_f4k"
      }
    },
    {
      "cell_type": "code",
      "source": [
        "criterion = nn.MSELoss()\n",
        "learning_rate = 0.01\n",
        "optimizer = torch.optim.SGD(model.parameters(), lr = learning_rate)"
      ],
      "metadata": {
        "id": "BhAtl3Pd7coi"
      },
      "execution_count": null,
      "outputs": []
    },
    {
      "cell_type": "code",
      "source": [
        "eter_epoch = 100\n",
        "for epoch in range(eter_epoch):\n",
        "  #forward pass\n",
        "  y_pred = model(x)\n",
        "  #loss\n",
        "  l = criterion(y_pred, y) ##Call loss function\n",
        "  #backwarad\n",
        "  l.backward()\n",
        "  #update weight after back propagation\n",
        "  optimizer.step()\n",
        "  #zero gradient after each apoch\n",
        "  optimizer.zero_grad()\n",
        "  if (epoch+1) %10 ==0:\n",
        "    [w,b] = model.parameters()\n",
        "    print(f'epoch {epoch}: w = {w[0][0]:.3f}, loss = {l: 0.3f}')\n",
        "predicted = model(x).detach().numpy() #detach() don't support gradients\n",
        "plt.plot(x,y,'ro') \n",
        "plt.plot(x,predicted,'m')\n",
        "plt.show()   "
      ],
      "metadata": {
        "colab": {
          "base_uri": "https://localhost:8080/",
          "height": 442
        },
        "id": "8x3K7yEE72R_",
        "outputId": "d90ef008-167f-4bad-e9b8-7fc8046cf327"
      },
      "execution_count": null,
      "outputs": [
        {
          "output_type": "stream",
          "name": "stdout",
          "text": [
            "epoch 9: w = 82.480, loss =  332.568\n",
            "epoch 19: w = 82.480, loss =  332.568\n",
            "epoch 29: w = 82.481, loss =  332.568\n",
            "epoch 39: w = 82.481, loss =  332.568\n",
            "epoch 49: w = 82.482, loss =  332.568\n",
            "epoch 59: w = 82.482, loss =  332.568\n",
            "epoch 69: w = 82.483, loss =  332.568\n",
            "epoch 79: w = 82.483, loss =  332.568\n",
            "epoch 89: w = 82.483, loss =  332.568\n",
            "epoch 99: w = 82.483, loss =  332.568\n"
          ]
        },
        {
          "output_type": "display_data",
          "data": {
            "text/plain": [
              "<Figure size 432x288 with 1 Axes>"
            ],
            "image/png": "[encoded data removed]"
          },
          "metadata": {
            "needs_background": "light"
          }
        }
      ]
    },
    {
      "cell_type": "code",
      "source": [
        ""
      ],
      "metadata": {
        "id": "haYfqUsVC-mL"
      },
      "execution_count": null,
      "outputs": []
    }
  ]
}