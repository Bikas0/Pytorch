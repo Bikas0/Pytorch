{
  "nbformat": 4,
  "nbformat_minor": 0,
  "metadata": {
    "colab": {
      "name": "Pytorch_Part_3.ipynb",
      "provenance": [],
      "collapsed_sections": []
    },
    "kernelspec": {
      "name": "python3",
      "display_name": "Python 3"
    },
    "language_info": {
      "name": "python"
    }
  },
  "cells": [
    {
      "cell_type": "code",
      "execution_count": null,
      "metadata": {
        "id": "SjvsuwWPeEwj"
      },
      "outputs": [],
      "source": [
        "## Design model(input, output size, forward pass)\n",
        "##construct koss and optimizer\n",
        "##Traning loo\n",
        "  ##forward pass: compute prediction\n",
        "  ##backward pass: gradients"
      ]
    },
    {
      "cell_type": "code",
      "source": [
        "import torch\n",
        "import torch.nn as nn"
      ],
      "metadata": {
        "id": "V6In8tTno8ei"
      },
      "execution_count": null,
      "outputs": []
    },
    {
      "cell_type": "code",
      "source": [
        "x = torch.tensor([[1],[8],[9],[5]], dtype = torch.float32)\n",
        "y = torch.tensor([[2],[4],[3],[6]], dtype = torch.float32)\n",
        "n_samples, n_features = x.shape\n",
        "print(n_samples, n_features )"
      ],
      "metadata": {
        "colab": {
          "base_uri": "https://localhost:8080/"
        },
        "id": "3eauGhtSo9up",
        "outputId": "113cb5fd-abbc-46ff-8bd0-bb119c335109"
      },
      "execution_count": null,
      "outputs": [
        {
          "output_type": "stream",
          "name": "stdout",
          "text": [
            "4 1\n"
          ]
        }
      ]
    },
    {
      "cell_type": "code",
      "source": [
        "input_size = n_features\n",
        "output_size = n_features\n",
        "x_test = torch.tensor([5], dtype = torch.float32)\n",
        "##Forward bias\n",
        "model = nn.Linear(input_size, output_size)\n",
        "print(f'Prediction before training: f(5) =  {model(x_test).item():.3f}')"
      ],
      "metadata": {
        "colab": {
          "base_uri": "https://localhost:8080/"
        },
        "id": "xui--GGJpsVN",
        "outputId": "6f777ddc-9f9f-4154-9497-49c5bae73572"
      },
      "execution_count": null,
      "outputs": [
        {
          "output_type": "stream",
          "name": "stdout",
          "text": [
            "Prediction before training: f(5) =  4.165\n"
          ]
        }
      ]
    },
    {
      "cell_type": "code",
      "source": [
        "learning_rate = 0.01\n",
        "n_iters = 100\n",
        "\n",
        "loss = nn.MSELoss()\n",
        "optimizer = torch.optim.SGD(model.parameters(), lr = learning_rate)\n",
        "for epoch in range(n_iters):\n",
        "  ##prediction = forward pass\n",
        "  y_pred = model(x)\n",
        "  ##Loss function\n",
        "  l = loss(y, y_pred)\n",
        "  ##gradients = backward pass\n",
        "  l.backward()\n",
        "\n",
        "  #update weights\n",
        "  optimizer.step()\n",
        "\n",
        "  #zero the gradients after updating\n",
        "  optimizer.zero_grad()\n",
        "\n",
        "  if epoch % 10 == 0:\n",
        "    [w,b] = model.parameters() # unpack [w,b] \n",
        "    print(f'epoch {epoch}: w = {w[0][0]:.3f}, loss = {l: 0.3f}')\n",
        "\n",
        "print(f'Prediction after training: f(5) =  {model(x_test).item():.3f}')\n"
      ],
      "metadata": {
        "colab": {
          "base_uri": "https://localhost:8080/"
        },
        "id": "-gXaDfXbq48C",
        "outputId": "454b5661-a3bc-408b-9aa1-d4fb73580a8e"
      },
      "execution_count": null,
      "outputs": [
        {
          "output_type": "stream",
          "name": "stdout",
          "text": [
            "epoch 0: w = 0.372, loss =  2.823\n",
            "epoch 10: w = 0.362, loss =  2.756\n",
            "epoch 20: w = 0.351, loss =  2.695\n",
            "epoch 30: w = 0.341, loss =  2.639\n",
            "epoch 40: w = 0.332, loss =  2.588\n",
            "epoch 50: w = 0.322, loss =  2.542\n",
            "epoch 60: w = 0.314, loss =  2.499\n",
            "epoch 70: w = 0.305, loss =  2.460\n",
            "epoch 80: w = 0.297, loss =  2.424\n",
            "epoch 90: w = 0.290, loss =  2.392\n",
            "Prediction after training: f(5) =  3.273\n"
          ]
        }
      ]
    },
    {
      "cell_type": "code",
      "source": [
        ""
      ],
      "metadata": {
        "id": "DvvLGn9a2mwf"
      },
      "execution_count": null,
      "outputs": []
    }
  ]
}